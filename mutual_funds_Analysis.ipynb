{
 "cells": [
  {
   "cell_type": "markdown",
   "metadata": {},
   "source": [
    "Creating a Mutual Fund Plan with Python\n",
    "A mutual fund plan is created by selecting the stocks where an investor can benefit in the long term. Here’s the process we can follow to create a mutual fund plan:\n",
    "\n",
    "Step 1: Gather historical stock data, such as closing prices and growth trends over time.\n",
    "Step 2: Calculate key metrics like Return on Investment (ROI) and volatility (risk) to understand how each stock has performed historically.\n",
    "Step 3: Choose stocks that have a high ROI and low volatility to ensure a balance between risk and reward.\n",
    "Step 4: Calculate the future value of monthly investments based on the expected ROI of the selected stocks."
   ]
  },
  {
   "cell_type": "code",
   "execution_count": 3,
   "metadata": {},
   "outputs": [
    {
     "name": "stdout",
     "output_type": "stream",
     "text": [
      "                        Date  RELIANCE.NS  HDFCBANK.NS  ICICIBANK.NS  \\\n",
      "0  2024-08-20 00:00:00+05:30  2991.899902  1637.699951   1179.449951   \n",
      "1  2024-08-21 00:00:00+05:30  2997.350098  1625.800049   1174.849976   \n",
      "2  2024-08-22 00:00:00+05:30  2996.250000  1631.300049   1191.099976   \n",
      "3  2024-08-23 00:00:00+05:30  2999.949951  1625.050049   1203.500000   \n",
      "4  2024-08-26 00:00:00+05:30  3025.199951  1639.949951   1213.300049   \n",
      "\n",
      "       INFY.NS       TCS.NS  KOTAKBANK.NS  HINDUNILVR.NS      ITC.NS  \\\n",
      "0  1872.199951  4523.299805   1805.650024    2751.050049  498.799988   \n",
      "1  1872.699951  4551.500000   1812.949951    2791.199951  505.399994   \n",
      "2  1880.250000  4502.000000   1821.500000    2792.800049  504.549988   \n",
      "3  1862.099976  4463.899902   1818.000000    2815.600098  505.799988   \n",
      "4  1876.150024  4502.450195   1812.500000    2821.149902  505.700012   \n",
      "\n",
      "         LT.NS  ...  HEROMOTOCO.NS   DRREDDY.NS   SHREECEM.NS  BRITANNIA.NS  \\\n",
      "0  3572.699951  ...    5244.399902  6965.350098  24730.550781   5765.799805   \n",
      "1  3596.050049  ...    5284.700195  7062.450195  24808.050781   5837.350098   \n",
      "2  3606.500000  ...    5329.950195  6969.049805  25012.400391   5836.799805   \n",
      "3  3598.550049  ...    5384.899902  6954.500000  24706.050781   5792.649902   \n",
      "4  3641.899902  ...    5343.750000  6943.299805  24906.449219   5796.950195   \n",
      "\n",
      "       UPL.NS  EICHERMOT.NS   SBILIFE.NS  ADANIPORTS.NS  BAJAJ-AUTO.NS  \\\n",
      "0  566.150024   4883.250000  1761.300049    1492.550049    9779.700195   \n",
      "1  568.299988   4913.549805  1800.599976    1503.500000    9852.000000   \n",
      "2  579.150024   4933.549805  1795.250000    1492.300049    9914.200195   \n",
      "3  573.700012   4898.100098  1789.300049    1491.300049   10406.450195   \n",
      "4  577.450012   4875.200195  1796.250000    1482.550049   10432.549805   \n",
      "\n",
      "   HINDALCO.NS  \n",
      "0   672.900024  \n",
      "1   685.599976  \n",
      "2   685.549988  \n",
      "3   685.099976  \n",
      "4   711.849976  \n",
      "\n",
      "[5 rows x 51 columns]\n"
     ]
    }
   ],
   "source": [
    "import pandas as pd\n",
    "\n",
    "data = pd.read_csv(\"nifty50_closing_prices.csv\")\n",
    "\n",
    "print(data.head())"
   ]
  },
  {
   "cell_type": "code",
   "execution_count": 4,
   "metadata": {},
   "outputs": [],
   "source": [
    "#Before moving forward, I’ll convert the date column into a datetime data type:\n",
    "data['Date'] = pd.to_datetime(data['Date'])"
   ]
  },
  {
   "cell_type": "code",
   "execution_count": 5,
   "metadata": {},
   "outputs": [
    {
     "name": "stdout",
     "output_type": "stream",
     "text": [
      "Date              0\n",
      "RELIANCE.NS       0\n",
      "HDFCBANK.NS       0\n",
      "ICICIBANK.NS      0\n",
      "INFY.NS           0\n",
      "TCS.NS            0\n",
      "KOTAKBANK.NS      0\n",
      "HINDUNILVR.NS     0\n",
      "ITC.NS            0\n",
      "LT.NS             0\n",
      "SBIN.NS           0\n",
      "BAJFINANCE.NS     0\n",
      "BHARTIARTL.NS     0\n",
      "HCLTECH.NS        0\n",
      "ASIANPAINT.NS     0\n",
      "AXISBANK.NS       0\n",
      "DMART.NS          0\n",
      "MARUTI.NS         0\n",
      "ULTRACEMCO.NS     0\n",
      "HDFC.NS          24\n",
      "TITAN.NS          0\n",
      "SUNPHARMA.NS      0\n",
      "M&M.NS            0\n",
      "NESTLEIND.NS      0\n",
      "WIPRO.NS          0\n",
      "ADANIGREEN.NS     0\n",
      "TATASTEEL.NS      0\n",
      "JSWSTEEL.NS       0\n",
      "POWERGRID.NS      0\n",
      "ONGC.NS           0\n",
      "NTPC.NS           0\n",
      "COALINDIA.NS      0\n",
      "BPCL.NS           0\n",
      "IOC.NS            0\n",
      "TECHM.NS          0\n",
      "INDUSINDBK.NS     0\n",
      "DIVISLAB.NS       0\n",
      "GRASIM.NS         0\n",
      "CIPLA.NS          0\n",
      "BAJAJFINSV.NS     0\n",
      "TATAMOTORS.NS     0\n",
      "HEROMOTOCO.NS     0\n",
      "DRREDDY.NS        0\n",
      "SHREECEM.NS       0\n",
      "BRITANNIA.NS      0\n",
      "UPL.NS            0\n",
      "EICHERMOT.NS      0\n",
      "SBILIFE.NS        0\n",
      "ADANIPORTS.NS     0\n",
      "BAJAJ-AUTO.NS     0\n",
      "HINDALCO.NS       0\n",
      "dtype: int64\n"
     ]
    }
   ],
   "source": [
    "print(data.isnull().sum())"
   ]
  },
  {
   "cell_type": "code",
   "execution_count": 6,
   "metadata": {},
   "outputs": [
    {
     "name": "stderr",
     "output_type": "stream",
     "text": [
      "C:\\Users\\mahes\\AppData\\Local\\Temp\\ipykernel_11016\\1095739511.py:2: FutureWarning: Series.fillna with 'method' is deprecated and will raise in a future version. Use obj.ffill() or obj.bfill() instead.\n",
      "  data['HDFC.NS'] = data['HDFC.NS'].fillna(method='ffill')\n"
     ]
    }
   ],
   "source": [
    "# HDFC.NS having null values Let's fill the null values with Forward filling method\n",
    "data['HDFC.NS'] = data['HDFC.NS'].fillna(method='ffill')"
   ]
  },
  {
   "cell_type": "code",
   "execution_count": 7,
   "metadata": {},
   "outputs": [
    {
     "name": "stdout",
     "output_type": "stream",
     "text": [
      "Collecting plotly\n",
      "  Using cached plotly-6.0.0-py3-none-any.whl.metadata (5.6 kB)\n",
      "Collecting narwhals>=1.15.1 (from plotly)\n",
      "  Downloading narwhals-1.30.0-py3-none-any.whl.metadata (11 kB)\n",
      "Requirement already satisfied: packaging in c:\\users\\mahes\\appdata\\roaming\\python\\python312\\site-packages (from plotly) (23.2)\n",
      "Using cached plotly-6.0.0-py3-none-any.whl (14.8 MB)\n",
      "Downloading narwhals-1.30.0-py3-none-any.whl (313 kB)\n",
      "Installing collected packages: narwhals, plotly\n",
      "Successfully installed narwhals-1.30.0 plotly-6.0.0\n"
     ]
    }
   ],
   "source": [
    "! pip install plotly"
   ]
  },
  {
   "cell_type": "code",
   "execution_count": 8,
   "metadata": {},
   "outputs": [
    {
     "ename": "ValueError",
     "evalue": "Mime type rendering requires nbformat>=4.2.0 but it is not installed",
     "output_type": "error",
     "traceback": [
      "\u001b[1;31m---------------------------------------------------------------------------\u001b[0m",
      "\u001b[1;31mValueError\u001b[0m                                Traceback (most recent call last)",
      "Cell \u001b[1;32mIn[8], line 29\u001b[0m\n\u001b[0;32m      7\u001b[0m     fig\u001b[38;5;241m.\u001b[39madd_trace(go\u001b[38;5;241m.\u001b[39mScatter(x\u001b[38;5;241m=\u001b[39mdata[\u001b[38;5;124m'\u001b[39m\u001b[38;5;124mDate\u001b[39m\u001b[38;5;124m'\u001b[39m], y\u001b[38;5;241m=\u001b[39mdata[company],\n\u001b[0;32m      8\u001b[0m                              mode\u001b[38;5;241m=\u001b[39m\u001b[38;5;124m'\u001b[39m\u001b[38;5;124mlines\u001b[39m\u001b[38;5;124m'\u001b[39m,\n\u001b[0;32m      9\u001b[0m                              name\u001b[38;5;241m=\u001b[39mcompany,\n\u001b[0;32m     10\u001b[0m                              opacity\u001b[38;5;241m=\u001b[39m\u001b[38;5;241m0.5\u001b[39m))\n\u001b[0;32m     12\u001b[0m fig\u001b[38;5;241m.\u001b[39mupdate_layout(\n\u001b[0;32m     13\u001b[0m     title\u001b[38;5;241m=\u001b[39m\u001b[38;5;124m'\u001b[39m\u001b[38;5;124mStock Price Trends of All Indian Companies\u001b[39m\u001b[38;5;124m'\u001b[39m,\n\u001b[0;32m     14\u001b[0m     xaxis_title\u001b[38;5;241m=\u001b[39m\u001b[38;5;124m'\u001b[39m\u001b[38;5;124mDate\u001b[39m\u001b[38;5;124m'\u001b[39m,\n\u001b[1;32m   (...)\u001b[0m\n\u001b[0;32m     26\u001b[0m     template\u001b[38;5;241m=\u001b[39m\u001b[38;5;124m'\u001b[39m\u001b[38;5;124mplotly_white\u001b[39m\u001b[38;5;124m'\u001b[39m\n\u001b[0;32m     27\u001b[0m )\n\u001b[1;32m---> 29\u001b[0m \u001b[43mfig\u001b[49m\u001b[38;5;241;43m.\u001b[39;49m\u001b[43mshow\u001b[49m\u001b[43m(\u001b[49m\u001b[43m)\u001b[49m\n",
      "File \u001b[1;32mc:\\Users\\mahes\\OneDrive\\Documents\\DS_Projects\\venv\\Lib\\site-packages\\plotly\\basedatatypes.py:3414\u001b[0m, in \u001b[0;36mBaseFigure.show\u001b[1;34m(self, *args, **kwargs)\u001b[0m\n\u001b[0;32m   3381\u001b[0m \u001b[38;5;250m\u001b[39m\u001b[38;5;124;03m\"\"\"\u001b[39;00m\n\u001b[0;32m   3382\u001b[0m \u001b[38;5;124;03mShow a figure using either the default renderer(s) or the renderer(s)\u001b[39;00m\n\u001b[0;32m   3383\u001b[0m \u001b[38;5;124;03mspecified by the renderer argument\u001b[39;00m\n\u001b[1;32m   (...)\u001b[0m\n\u001b[0;32m   3410\u001b[0m \u001b[38;5;124;03mNone\u001b[39;00m\n\u001b[0;32m   3411\u001b[0m \u001b[38;5;124;03m\"\"\"\u001b[39;00m\n\u001b[0;32m   3412\u001b[0m \u001b[38;5;28;01mimport\u001b[39;00m \u001b[38;5;21;01mplotly\u001b[39;00m\u001b[38;5;21;01m.\u001b[39;00m\u001b[38;5;21;01mio\u001b[39;00m \u001b[38;5;28;01mas\u001b[39;00m \u001b[38;5;21;01mpio\u001b[39;00m\n\u001b[1;32m-> 3414\u001b[0m \u001b[38;5;28;01mreturn\u001b[39;00m \u001b[43mpio\u001b[49m\u001b[38;5;241;43m.\u001b[39;49m\u001b[43mshow\u001b[49m\u001b[43m(\u001b[49m\u001b[38;5;28;43mself\u001b[39;49m\u001b[43m,\u001b[49m\u001b[43m \u001b[49m\u001b[38;5;241;43m*\u001b[39;49m\u001b[43margs\u001b[49m\u001b[43m,\u001b[49m\u001b[43m \u001b[49m\u001b[38;5;241;43m*\u001b[39;49m\u001b[38;5;241;43m*\u001b[39;49m\u001b[43mkwargs\u001b[49m\u001b[43m)\u001b[49m\n",
      "File \u001b[1;32mc:\\Users\\mahes\\OneDrive\\Documents\\DS_Projects\\venv\\Lib\\site-packages\\plotly\\io\\_renderers.py:425\u001b[0m, in \u001b[0;36mshow\u001b[1;34m(fig, renderer, validate, **kwargs)\u001b[0m\n\u001b[0;32m    420\u001b[0m     \u001b[38;5;28;01mraise\u001b[39;00m \u001b[38;5;167;01mValueError\u001b[39;00m(\n\u001b[0;32m    421\u001b[0m         \u001b[38;5;124m\"\u001b[39m\u001b[38;5;124mMime type rendering requires ipython but it is not installed\u001b[39m\u001b[38;5;124m\"\u001b[39m\n\u001b[0;32m    422\u001b[0m     )\n\u001b[0;32m    424\u001b[0m \u001b[38;5;28;01mif\u001b[39;00m \u001b[38;5;129;01mnot\u001b[39;00m nbformat \u001b[38;5;129;01mor\u001b[39;00m Version(nbformat\u001b[38;5;241m.\u001b[39m__version__) \u001b[38;5;241m<\u001b[39m Version(\u001b[38;5;124m\"\u001b[39m\u001b[38;5;124m4.2.0\u001b[39m\u001b[38;5;124m\"\u001b[39m):\n\u001b[1;32m--> 425\u001b[0m     \u001b[38;5;28;01mraise\u001b[39;00m \u001b[38;5;167;01mValueError\u001b[39;00m(\n\u001b[0;32m    426\u001b[0m         \u001b[38;5;124m\"\u001b[39m\u001b[38;5;124mMime type rendering requires nbformat>=4.2.0 but it is not installed\u001b[39m\u001b[38;5;124m\"\u001b[39m\n\u001b[0;32m    427\u001b[0m     )\n\u001b[0;32m    429\u001b[0m display_jupyter_version_warnings()\n\u001b[0;32m    431\u001b[0m ipython_display\u001b[38;5;241m.\u001b[39mdisplay(bundle, raw\u001b[38;5;241m=\u001b[39m\u001b[38;5;28;01mTrue\u001b[39;00m)\n",
      "\u001b[1;31mValueError\u001b[0m: Mime type rendering requires nbformat>=4.2.0 but it is not installed"
     ]
    }
   ],
   "source": [
    "import plotly.graph_objs as go\n",
    "import plotly.express as px\n",
    "\n",
    "fig = go.Figure()\n",
    "\n",
    "for company in data.columns[1:]:\n",
    "    fig.add_trace(go.Scatter(x=data['Date'], y=data[company],\n",
    "                             mode='lines',\n",
    "                             name=company,\n",
    "                             opacity=0.5))\n",
    "\n",
    "fig.update_layout(\n",
    "    title='Stock Price Trends of All Indian Companies',\n",
    "    xaxis_title='Date',\n",
    "    yaxis_title='Closing Price (INR)',\n",
    "    xaxis=dict(tickangle=45), \n",
    "    legend=dict(\n",
    "        x=1.05,\n",
    "        y=1,\n",
    "        traceorder=\"normal\",\n",
    "        font=dict(size=10),\n",
    "        orientation=\"v\"\n",
    "    ),\n",
    "    margin=dict(l=0, r=0, t=30, b=0),  \n",
    "    hovermode='x',\n",
    "    template='plotly_white'\n",
    ")\n",
    "\n",
    "fig.show()"
   ]
  },
  {
   "cell_type": "code",
   "execution_count": null,
   "metadata": {},
   "outputs": [],
   "source": [
    "# Let's Look at the companies with the highest risk\n",
    "all_companies = data.columns[1:]\n",
    "\n",
    "volatility_all_companies = data[all_companies].std()\n",
    "\n",
    "volatility_all_companies.sort_values(ascending=False).head(10)"
   ]
  },
  {
   "cell_type": "code",
   "execution_count": null,
   "metadata": {},
   "outputs": [],
   "source": []
  },
  {
   "cell_type": "code",
   "execution_count": null,
   "metadata": {},
   "outputs": [],
   "source": []
  },
  {
   "cell_type": "code",
   "execution_count": null,
   "metadata": {},
   "outputs": [],
   "source": []
  },
  {
   "cell_type": "code",
   "execution_count": null,
   "metadata": {},
   "outputs": [],
   "source": []
  },
  {
   "cell_type": "code",
   "execution_count": null,
   "metadata": {},
   "outputs": [],
   "source": []
  },
  {
   "cell_type": "code",
   "execution_count": null,
   "metadata": {},
   "outputs": [],
   "source": []
  },
  {
   "cell_type": "code",
   "execution_count": null,
   "metadata": {},
   "outputs": [],
   "source": []
  },
  {
   "cell_type": "code",
   "execution_count": null,
   "metadata": {},
   "outputs": [],
   "source": []
  },
  {
   "cell_type": "code",
   "execution_count": null,
   "metadata": {},
   "outputs": [],
   "source": []
  },
  {
   "cell_type": "code",
   "execution_count": null,
   "metadata": {},
   "outputs": [],
   "source": []
  },
  {
   "cell_type": "code",
   "execution_count": null,
   "metadata": {},
   "outputs": [],
   "source": []
  },
  {
   "cell_type": "code",
   "execution_count": null,
   "metadata": {},
   "outputs": [],
   "source": []
  },
  {
   "cell_type": "code",
   "execution_count": null,
   "metadata": {},
   "outputs": [],
   "source": []
  },
  {
   "cell_type": "code",
   "execution_count": null,
   "metadata": {},
   "outputs": [],
   "source": []
  },
  {
   "cell_type": "code",
   "execution_count": null,
   "metadata": {},
   "outputs": [],
   "source": []
  },
  {
   "cell_type": "code",
   "execution_count": null,
   "metadata": {},
   "outputs": [],
   "source": []
  },
  {
   "cell_type": "code",
   "execution_count": null,
   "metadata": {},
   "outputs": [],
   "source": []
  },
  {
   "cell_type": "code",
   "execution_count": null,
   "metadata": {},
   "outputs": [],
   "source": []
  },
  {
   "cell_type": "code",
   "execution_count": null,
   "metadata": {},
   "outputs": [],
   "source": []
  },
  {
   "cell_type": "code",
   "execution_count": null,
   "metadata": {},
   "outputs": [],
   "source": []
  },
  {
   "cell_type": "code",
   "execution_count": null,
   "metadata": {},
   "outputs": [],
   "source": []
  },
  {
   "cell_type": "code",
   "execution_count": null,
   "metadata": {},
   "outputs": [],
   "source": []
  },
  {
   "cell_type": "code",
   "execution_count": null,
   "metadata": {},
   "outputs": [],
   "source": []
  },
  {
   "cell_type": "code",
   "execution_count": null,
   "metadata": {},
   "outputs": [],
   "source": []
  },
  {
   "cell_type": "code",
   "execution_count": null,
   "metadata": {},
   "outputs": [],
   "source": []
  },
  {
   "cell_type": "code",
   "execution_count": null,
   "metadata": {},
   "outputs": [],
   "source": []
  }
 ],
 "metadata": {
  "kernelspec": {
   "display_name": "Python 3",
   "language": "python",
   "name": "python3"
  },
  "language_info": {
   "codemirror_mode": {
    "name": "ipython",
    "version": 3
   },
   "file_extension": ".py",
   "mimetype": "text/x-python",
   "name": "python",
   "nbconvert_exporter": "python",
   "pygments_lexer": "ipython3",
   "version": "3.12.0"
  }
 },
 "nbformat": 4,
 "nbformat_minor": 2
}
